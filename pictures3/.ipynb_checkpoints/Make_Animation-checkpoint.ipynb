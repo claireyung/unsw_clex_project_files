{
 "cells": [
  {
   "cell_type": "code",
   "execution_count": 7,
   "metadata": {},
   "outputs": [],
   "source": [
    "import imageio\n",
    "\n",
    "from pathlib import Path\n",
    "image_path = Path('.')\n",
    "images = list(image_path.glob('*.png'))\n",
    "images.sort()\n",
    "image_list = []\n",
    "for file_name in images:\n",
    "    image_list.append(imageio.imread(file_name))\n",
    "    "
   ]
  },
  {
   "cell_type": "code",
   "execution_count": 8,
   "metadata": {},
   "outputs": [
    {
     "data": {
      "text/plain": [
       "[PosixPath('isopycnals_2899.png'),\n",
       " PosixPath('isopycnals_2900.png'),\n",
       " PosixPath('isopycnals_2901.png'),\n",
       " PosixPath('isopycnals_2902.png'),\n",
       " PosixPath('isopycnals_2903.png'),\n",
       " PosixPath('isopycnals_2904.png'),\n",
       " PosixPath('isopycnals_2905.png'),\n",
       " PosixPath('isopycnals_2906.png'),\n",
       " PosixPath('isopycnals_2907.png'),\n",
       " PosixPath('isopycnals_2908.png'),\n",
       " PosixPath('isopycnals_2909.png'),\n",
       " PosixPath('isopycnals_2910.png'),\n",
       " PosixPath('isopycnals_2911.png'),\n",
       " PosixPath('isopycnals_2912.png'),\n",
       " PosixPath('isopycnals_2913.png'),\n",
       " PosixPath('isopycnals_2914.png'),\n",
       " PosixPath('isopycnals_2915.png'),\n",
       " PosixPath('isopycnals_2916.png'),\n",
       " PosixPath('isopycnals_2917.png'),\n",
       " PosixPath('isopycnals_2918.png'),\n",
       " PosixPath('isopycnals_2919.png'),\n",
       " PosixPath('isopycnals_2920.png'),\n",
       " PosixPath('isopycnals_2921.png'),\n",
       " PosixPath('isopycnals_2922.png'),\n",
       " PosixPath('isopycnals_2923.png'),\n",
       " PosixPath('isopycnals_2924.png'),\n",
       " PosixPath('isopycnals_2925.png'),\n",
       " PosixPath('isopycnals_2926.png'),\n",
       " PosixPath('isopycnals_2927.png'),\n",
       " PosixPath('isopycnals_2928.png'),\n",
       " PosixPath('isopycnals_2929.png'),\n",
       " PosixPath('isopycnals_2930.png'),\n",
       " PosixPath('isopycnals_2931.png'),\n",
       " PosixPath('isopycnals_2932.png'),\n",
       " PosixPath('isopycnals_2933.png'),\n",
       " PosixPath('isopycnals_2934.png'),\n",
       " PosixPath('isopycnals_2935.png'),\n",
       " PosixPath('isopycnals_2936.png'),\n",
       " PosixPath('isopycnals_2937.png'),\n",
       " PosixPath('isopycnals_2938.png'),\n",
       " PosixPath('isopycnals_2939.png'),\n",
       " PosixPath('isopycnals_2940.png'),\n",
       " PosixPath('isopycnals_2941.png'),\n",
       " PosixPath('isopycnals_2942.png'),\n",
       " PosixPath('isopycnals_2943.png'),\n",
       " PosixPath('isopycnals_2944.png'),\n",
       " PosixPath('isopycnals_2945.png'),\n",
       " PosixPath('isopycnals_2946.png'),\n",
       " PosixPath('isopycnals_2947.png'),\n",
       " PosixPath('isopycnals_2948.png'),\n",
       " PosixPath('isopycnals_2949.png'),\n",
       " PosixPath('isopycnals_2950.png')]"
      ]
     },
     "execution_count": 8,
     "metadata": {},
     "output_type": "execute_result"
    }
   ],
   "source": [
    "images"
   ]
  },
  {
   "cell_type": "code",
   "execution_count": 9,
   "metadata": {},
   "outputs": [],
   "source": [
    "imageio.mimwrite('isopycnals_warmSH.gif', image_list[-52:], fps=2)"
   ]
  },
  {
   "cell_type": "code",
   "execution_count": null,
   "metadata": {},
   "outputs": [],
   "source": []
  },
  {
   "cell_type": "code",
   "execution_count": null,
   "metadata": {},
   "outputs": [],
   "source": []
  }
 ],
 "metadata": {
  "kernelspec": {
   "display_name": "Python [conda env:analysis3-20.07] *",
   "language": "python",
   "name": "conda-env-analysis3-20.07-py"
  },
  "language_info": {
   "codemirror_mode": {
    "name": "ipython",
    "version": 3
   },
   "file_extension": ".py",
   "mimetype": "text/x-python",
   "name": "python",
   "nbconvert_exporter": "python",
   "pygments_lexer": "ipython3",
   "version": "3.7.8"
  }
 },
 "nbformat": 4,
 "nbformat_minor": 4
}
