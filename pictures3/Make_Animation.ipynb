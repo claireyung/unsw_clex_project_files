{
 "cells": [
  {
   "cell_type": "code",
   "execution_count": 1,
   "metadata": {},
   "outputs": [],
   "source": [
    "import imageio\n",
    "\n",
    "from pathlib import Path\n",
    "image_path = Path('.')\n",
    "images = list(image_path.glob('*.png'))\n",
    "images.sort()\n",
    "image_list = []\n",
    "for file_name in images:\n",
    "    image_list.append(imageio.imread(file_name))\n",
    "    "
   ]
  },
  {
   "cell_type": "code",
   "execution_count": 2,
   "metadata": {},
   "outputs": [
    {
     "data": {
      "text/plain": [
       "[PosixPath('isopycnal_2899.png'),\n",
       " PosixPath('isopycnal_2900.png'),\n",
       " PosixPath('isopycnal_2901.png'),\n",
       " PosixPath('isopycnal_2902.png'),\n",
       " PosixPath('isopycnal_2903.png'),\n",
       " PosixPath('isopycnal_2904.png'),\n",
       " PosixPath('isopycnal_2905.png'),\n",
       " PosixPath('isopycnal_2906.png'),\n",
       " PosixPath('isopycnal_2907.png'),\n",
       " PosixPath('isopycnal_2908.png'),\n",
       " PosixPath('isopycnal_2909.png'),\n",
       " PosixPath('isopycnal_2910.png'),\n",
       " PosixPath('isopycnal_2911.png'),\n",
       " PosixPath('isopycnal_2912.png'),\n",
       " PosixPath('isopycnal_2913.png'),\n",
       " PosixPath('isopycnal_2914.png'),\n",
       " PosixPath('isopycnal_2915.png'),\n",
       " PosixPath('isopycnal_2916.png'),\n",
       " PosixPath('isopycnal_2917.png'),\n",
       " PosixPath('isopycnal_2918.png'),\n",
       " PosixPath('isopycnal_2919.png'),\n",
       " PosixPath('isopycnal_2920.png'),\n",
       " PosixPath('isopycnal_2921.png'),\n",
       " PosixPath('isopycnal_2922.png'),\n",
       " PosixPath('isopycnal_2923.png'),\n",
       " PosixPath('isopycnal_2924.png'),\n",
       " PosixPath('isopycnal_2925.png'),\n",
       " PosixPath('isopycnal_2926.png'),\n",
       " PosixPath('isopycnal_2927.png'),\n",
       " PosixPath('isopycnal_2928.png'),\n",
       " PosixPath('isopycnal_2929.png'),\n",
       " PosixPath('isopycnal_2930.png'),\n",
       " PosixPath('isopycnal_2931.png'),\n",
       " PosixPath('isopycnal_2932.png'),\n",
       " PosixPath('isopycnal_2933.png'),\n",
       " PosixPath('isopycnal_2934.png'),\n",
       " PosixPath('isopycnal_2935.png'),\n",
       " PosixPath('isopycnal_2936.png'),\n",
       " PosixPath('isopycnal_2937.png'),\n",
       " PosixPath('isopycnal_2938.png'),\n",
       " PosixPath('isopycnal_2939.png'),\n",
       " PosixPath('isopycnal_2940.png'),\n",
       " PosixPath('isopycnal_2941.png'),\n",
       " PosixPath('isopycnal_2942.png'),\n",
       " PosixPath('isopycnal_2943.png'),\n",
       " PosixPath('isopycnal_2944.png'),\n",
       " PosixPath('isopycnal_2945.png'),\n",
       " PosixPath('isopycnal_2946.png'),\n",
       " PosixPath('isopycnal_2947.png'),\n",
       " PosixPath('isopycnal_2948.png'),\n",
       " PosixPath('isopycnal_2949.png'),\n",
       " PosixPath('isopycnal_2950.png')]"
      ]
     },
     "execution_count": 2,
     "metadata": {},
     "output_type": "execute_result"
    }
   ],
   "source": [
    "images"
   ]
  },
  {
   "cell_type": "code",
   "execution_count": 3,
   "metadata": {},
   "outputs": [],
   "source": [
    "imageio.mimwrite('isopycnals.gif', image_list[-52:], fps=2)"
   ]
  },
  {
   "cell_type": "code",
   "execution_count": null,
   "metadata": {},
   "outputs": [],
   "source": []
  },
  {
   "cell_type": "code",
   "execution_count": null,
   "metadata": {},
   "outputs": [],
   "source": []
  }
 ],
 "metadata": {
  "kernelspec": {
   "display_name": "Python [conda env:analysis3-20.07] *",
   "language": "python",
   "name": "conda-env-analysis3-20.07-py"
  },
  "language_info": {
   "codemirror_mode": {
    "name": "ipython",
    "version": 3
   },
   "file_extension": ".py",
   "mimetype": "text/x-python",
   "name": "python",
   "nbconvert_exporter": "python",
   "pygments_lexer": "ipython3",
   "version": "3.7.8"
  }
 },
 "nbformat": 4,
 "nbformat_minor": 4
}
