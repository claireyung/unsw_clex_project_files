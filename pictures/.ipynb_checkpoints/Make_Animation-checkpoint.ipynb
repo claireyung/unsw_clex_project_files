{
 "cells": [
  {
   "cell_type": "code",
   "execution_count": 1,
   "metadata": {},
   "outputs": [],
   "source": [
    "import imageio\n",
    "\n",
    "from pathlib import Path\n",
    "image_path = Path('.')\n",
    "images = list(image_path.glob('*.png'))\n",
    "image_list = []\n",
    "for file_name in images:\n",
    "    image_list.append(imageio.imread(file_name))"
   ]
  },
  {
   "cell_type": "code",
   "execution_count": 2,
   "metadata": {},
   "outputs": [
    {
     "data": {
      "text/plain": [
       "[PosixPath('drygalski_density2transect8.png'),\n",
       " PosixPath('drygalski_density2transect9.png'),\n",
       " PosixPath('drygalski_density2transect11.png'),\n",
       " PosixPath('drygalski_density2transect5.png'),\n",
       " PosixPath('drygalski_density2transect10.png'),\n",
       " PosixPath('drygalski_density2transect2.png'),\n",
       " PosixPath('drygalski_density2transect1.png'),\n",
       " PosixPath('drygalski_density2transect0.png'),\n",
       " PosixPath('drygalski_density2transect3.png'),\n",
       " PosixPath('drygalski_density2transect6.png'),\n",
       " PosixPath('drygalski_density2transect7.png'),\n",
       " PosixPath('drygalski_density2transect4.png')]"
      ]
     },
     "execution_count": 2,
     "metadata": {},
     "output_type": "execute_result"
    }
   ],
   "source": [
    "images"
   ]
  },
  {
   "cell_type": "code",
   "execution_count": 21,
   "metadata": {},
   "outputs": [],
   "source": [
    "imageio.mimwrite('drygalski_density2transect.gif', image_list[-12:], fps=0.7)"
   ]
  },
  {
   "cell_type": "code",
   "execution_count": null,
   "metadata": {},
   "outputs": [],
   "source": []
  },
  {
   "cell_type": "code",
   "execution_count": null,
   "metadata": {},
   "outputs": [],
   "source": []
  }
 ],
 "metadata": {
  "kernelspec": {
   "display_name": "Python [conda env:analysis3-20.01] *",
   "language": "python",
   "name": "conda-env-analysis3-20.01-py"
  },
  "language_info": {
   "codemirror_mode": {
    "name": "ipython",
    "version": 3
   },
   "file_extension": ".py",
   "mimetype": "text/x-python",
   "name": "python",
   "nbconvert_exporter": "python",
   "pygments_lexer": "ipython3",
   "version": "3.7.6"
  }
 },
 "nbformat": 4,
 "nbformat_minor": 4
}
