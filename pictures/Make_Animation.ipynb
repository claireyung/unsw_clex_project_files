{
 "cells": [
  {
   "cell_type": "code",
   "execution_count": 17,
   "metadata": {},
   "outputs": [],
   "source": [
    "import imageio\n",
    "\n",
    "from pathlib import Path\n",
    "image_path = Path('.')\n",
    "images = list(image_path.glob('*.png'))\n",
    "images.sort()\n",
    "image_list = []\n",
    "for file_name in images:\n",
    "    image_list.append(imageio.imread(file_name))\n",
    "    "
   ]
  },
  {
   "cell_type": "code",
   "execution_count": 18,
   "metadata": {},
   "outputs": [
    {
     "data": {
      "text/plain": [
       "[PosixPath('heat_content+mld_2899.png'),\n",
       " PosixPath('heat_content+mld_2900.png'),\n",
       " PosixPath('heat_content+mld_2901.png'),\n",
       " PosixPath('heat_content+mld_2902.png'),\n",
       " PosixPath('heat_content+mld_2903.png'),\n",
       " PosixPath('heat_content+mld_2904.png'),\n",
       " PosixPath('heat_content+mld_2905.png'),\n",
       " PosixPath('heat_content+mld_2906.png'),\n",
       " PosixPath('heat_content+mld_2907.png'),\n",
       " PosixPath('heat_content+mld_2908.png'),\n",
       " PosixPath('heat_content+mld_2909.png'),\n",
       " PosixPath('heat_content+mld_2910.png'),\n",
       " PosixPath('heat_content+mld_2911.png'),\n",
       " PosixPath('heat_content+mld_2912.png'),\n",
       " PosixPath('heat_content+mld_2913.png'),\n",
       " PosixPath('heat_content+mld_2914.png'),\n",
       " PosixPath('heat_content+mld_2915.png'),\n",
       " PosixPath('heat_content+mld_2916.png'),\n",
       " PosixPath('heat_content+mld_2917.png'),\n",
       " PosixPath('heat_content+mld_2918.png'),\n",
       " PosixPath('heat_content+mld_2919.png'),\n",
       " PosixPath('heat_content+mld_2920.png'),\n",
       " PosixPath('heat_content+mld_2921.png'),\n",
       " PosixPath('heat_content+mld_2922.png'),\n",
       " PosixPath('heat_content+mld_2923.png'),\n",
       " PosixPath('heat_content+mld_2924.png'),\n",
       " PosixPath('heat_content+mld_2925.png'),\n",
       " PosixPath('heat_content+mld_2926.png'),\n",
       " PosixPath('heat_content+mld_2927.png'),\n",
       " PosixPath('heat_content+mld_2928.png'),\n",
       " PosixPath('heat_content+mld_2929.png'),\n",
       " PosixPath('heat_content+mld_2930.png'),\n",
       " PosixPath('heat_content+mld_2931.png'),\n",
       " PosixPath('heat_content+mld_2932.png'),\n",
       " PosixPath('heat_content+mld_2933.png'),\n",
       " PosixPath('heat_content+mld_2934.png'),\n",
       " PosixPath('heat_content+mld_2935.png'),\n",
       " PosixPath('heat_content+mld_2936.png'),\n",
       " PosixPath('heat_content+mld_2937.png'),\n",
       " PosixPath('heat_content+mld_2938.png'),\n",
       " PosixPath('heat_content+mld_2939.png'),\n",
       " PosixPath('heat_content+mld_2940.png'),\n",
       " PosixPath('heat_content+mld_2941.png'),\n",
       " PosixPath('heat_content+mld_2942.png'),\n",
       " PosixPath('heat_content+mld_2943.png'),\n",
       " PosixPath('heat_content+mld_2944.png'),\n",
       " PosixPath('heat_content+mld_2945.png'),\n",
       " PosixPath('heat_content+mld_2946.png'),\n",
       " PosixPath('heat_content+mld_2947.png'),\n",
       " PosixPath('heat_content+mld_2948.png'),\n",
       " PosixPath('heat_content+mld_2949.png'),\n",
       " PosixPath('heat_content+mld_2950.png')]"
      ]
     },
     "execution_count": 18,
     "metadata": {},
     "output_type": "execute_result"
    }
   ],
   "source": [
    "images"
   ]
  },
  {
   "cell_type": "code",
   "execution_count": 19,
   "metadata": {},
   "outputs": [],
   "source": [
    "imageio.mimwrite('heat_content+mld_zoom.gif', image_list[-52:], fps=2)"
   ]
  },
  {
   "cell_type": "code",
   "execution_count": null,
   "metadata": {},
   "outputs": [],
   "source": []
  },
  {
   "cell_type": "code",
   "execution_count": null,
   "metadata": {},
   "outputs": [],
   "source": []
  }
 ],
 "metadata": {
  "kernelspec": {
   "display_name": "Python [conda env:analysis3-20.07] *",
   "language": "python",
   "name": "conda-env-analysis3-20.07-py"
  },
  "language_info": {
   "codemirror_mode": {
    "name": "ipython",
    "version": 3
   },
   "file_extension": ".py",
   "mimetype": "text/x-python",
   "name": "python",
   "nbconvert_exporter": "python",
   "pygments_lexer": "ipython3",
   "version": "3.7.8"
  }
 },
 "nbformat": 4,
 "nbformat_minor": 4
}
