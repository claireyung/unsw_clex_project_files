{
 "cells": [
  {
   "cell_type": "markdown",
   "metadata": {},
   "source": [
    "# Thermal wind balance"
   ]
  },
  {
   "cell_type": "code",
   "execution_count": null,
   "metadata": {},
   "outputs": [],
   "source": [
    "%matplotlib inline\n",
    "%config InlineBackend.figure_format='retina'\n",
    "\n",
    "import cosima_cookbook as cc\n",
    "import matplotlib.pyplot as plt\n",
    "import numpy as np\n",
    "import cmocean as cm\n",
    "from dask.distributed import Client\n",
    "from collections import OrderedDict\n",
    "import xarray as xr\n",
    "\n",
    "import IPython.display\n",
    "import cartopy.crs as ccrs\n",
    "from xhistogram.xarray import histogram\n",
    "import pandas as pd\n",
    "\n"
   ]
  },
  {
   "cell_type": "code",
   "execution_count": null,
   "metadata": {},
   "outputs": [],
   "source": [
    "expt = '1deg_jra55_ryf_RCPwarmhumid'\n",
    "variable = 'temp_global_ave'\n",
    "darray_warm = cc.querying.getvar(expt, variable, session, ncfile = 'ocean_scalar.nc')\n",
    "darray_warm\n",
    "annual_average_warm = darray_warm.groupby('time.year').mean(dim='time')\n",
    "darray_swarm = cc.querying.getvar(expt, 'temp_surface_ave', session)\n",
    "annual_average_swarm = darray_swarm.groupby('time.year').mean(dim='time')\n",
    "temp_warm = cc.querying.getvar(expt, 'temp', session, ncfile = 'ocean.nc')\n",
    "annual_SST_warm = temp_warm.isel(st_ocean = 0).groupby('time.year').mean(dim='time')\n",
    "surface_heat_flux_warm = cc.querying.getvar(expt,'net_sfc_heating',session)#.groupby('time.year').sum(dim='time')"
   ]
  }
 ],
 "metadata": {
  "kernelspec": {
   "display_name": "Python [conda env:analysis3-20.07] *",
   "language": "python",
   "name": "conda-env-analysis3-20.07-py"
  },
  "language_info": {
   "name": ""
  }
 },
 "nbformat": 4,
 "nbformat_minor": 4
}
