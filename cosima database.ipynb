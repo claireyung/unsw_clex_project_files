{
 "cells": [
  {
   "cell_type": "markdown",
   "metadata": {},
   "source": [
    "## Cosima cookbook database"
   ]
  },
  {
   "cell_type": "code",
   "execution_count": 1,
   "metadata": {},
   "outputs": [],
   "source": [
    "%matplotlib inline\n",
    "%config InlineBackend.figure_format='retina'\n",
    "\n",
    "import cosima_cookbook as cc"
   ]
  },
  {
   "cell_type": "code",
   "execution_count": 2,
   "metadata": {},
   "outputs": [],
   "source": [
    "db = '/scratch/e14/cy8964/access-om2/archive/databases/1deg_jra55_ryf_experiments.db'\n",
    "session = cc.database.create_session(db)"
   ]
  },
  {
   "cell_type": "code",
   "execution_count": 3,
   "metadata": {},
   "outputs": [
    {
     "name": "stderr",
     "output_type": "stream",
     "text": [
      "0it [00:00, ?it/s]"
     ]
    },
    {
     "name": "stdout",
     "output_type": "stream",
     "text": [
      "Indexing experiment: 1deg_jra55_ryf_rcpwarm\n"
     ]
    },
    {
     "name": "stderr",
     "output_type": "stream",
     "text": [
      "\n",
      "0it [00:00, ?it/s]\n"
     ]
    },
    {
     "name": "stdout",
     "output_type": "stream",
     "text": [
      "Indexing experiment: 1deg_jra55_ryf_rcpcool\n"
     ]
    },
    {
     "name": "stderr",
     "output_type": "stream",
     "text": [
      "0it [00:00, ?it/s]"
     ]
    },
    {
     "name": "stdout",
     "output_type": "stream",
     "text": [
      "Indexing experiment: 1deg_jra55_ryf_rcpcont\n"
     ]
    },
    {
     "name": "stderr",
     "output_type": "stream",
     "text": [
      "\n"
     ]
    },
    {
     "name": "stdout",
     "output_type": "stream",
     "text": [
      "Indexing experiment: 1deg_jra55_ryf_red3DSK_C9\n"
     ]
    },
    {
     "name": "stderr",
     "output_type": "stream",
     "text": [
      "  2%|▏         | 248/12644 [00:58<51:34,  4.01it/s]  ERROR:root:Error indexing /g/data/e14/rmh561/access-om2/archive/1deg_jra55_ryf_red3DSK_C9/processed/ocean.ty_trans_rho.xsum.C9_2D_600GS.out000-074.ncrcat.nc: 'time_bounds'\n",
      " 35%|███▍      | 4384/12644 [16:20<30:49,  4.47it/s]  ERROR:root:Error indexing /g/data/e14/rmh561/access-om2/archive/1deg_jra55_ryf_red3DSK_C9/processed/ocean.ty_trans_rho.xsum.C9_2D_600GS.out000-099.ncrcat.nc: 'time_bounds'\n",
      " 49%|████▊     | 6134/12644 [23:05<26:30,  4.09it/s]  ERROR:root:Error indexing /g/data/e14/rmh561/access-om2/archive/1deg_jra55_ryf_red3DSK_C9/processed/ocean.ty_trans_rho.xsum.C9_2D_600GS.out000-049.ncrcat.nc: 'time_bounds'\n",
      "100%|██████████| 12644/12644 [48:23<00:00,  4.35it/s] \n",
      "0it [00:00, ?it/s]"
     ]
    },
    {
     "name": "stdout",
     "output_type": "stream",
     "text": [
      "Indexing experiment: 1deg_jra55_ryf_RCPcool\n"
     ]
    },
    {
     "name": "stderr",
     "output_type": "stream",
     "text": [
      "\n",
      "0it [00:00, ?it/s]"
     ]
    },
    {
     "name": "stdout",
     "output_type": "stream",
     "text": [
      "Indexing experiment: 1deg_jra55_ryf_RCPwarmhumid\n"
     ]
    },
    {
     "name": "stderr",
     "output_type": "stream",
     "text": [
      "\n",
      "0it [00:00, ?it/s]"
     ]
    },
    {
     "name": "stdout",
     "output_type": "stream",
     "text": [
      "Indexing experiment: 1deg_jra55_ryf_RCPcont\n"
     ]
    },
    {
     "name": "stderr",
     "output_type": "stream",
     "text": [
      "\n",
      "0it [00:00, ?it/s]"
     ]
    },
    {
     "name": "stdout",
     "output_type": "stream",
     "text": [
      "Indexing experiment: 1deg_jra55_ryf_RCPwarmhumid2x\n"
     ]
    },
    {
     "name": "stderr",
     "output_type": "stream",
     "text": [
      "\n",
      "0it [00:00, ?it/s]"
     ]
    },
    {
     "name": "stdout",
     "output_type": "stream",
     "text": [
      "Indexing experiment: 1deg_jra55_ryf_RCPcoolhumid\n"
     ]
    },
    {
     "name": "stderr",
     "output_type": "stream",
     "text": [
      "\n",
      "0it [00:00, ?it/s]"
     ]
    },
    {
     "name": "stdout",
     "output_type": "stream",
     "text": [
      "Indexing experiment: 1deg_jra55_ryf_RCPcoolhumid2x\n"
     ]
    },
    {
     "name": "stderr",
     "output_type": "stream",
     "text": [
      "\n"
     ]
    },
    {
     "data": {
      "text/plain": [
       "12644"
      ]
     },
     "execution_count": 3,
     "metadata": {},
     "output_type": "execute_result"
    }
   ],
   "source": [
    "dir_list=['/scratch/e14/rmh561/access-om2/archive/1deg_jra55_ryf_rcpwarm',\n",
    "          '/scratch/e14/rmh561/access-om2/archive/1deg_jra55_ryf_rcpcool',\n",
    "          '/scratch/e14/rmh561/access-om2/archive/1deg_jra55_ryf_rcpcont',\n",
    "          '/g/data/e14/rmh561/access-om2/archive/1deg_jra55_ryf_red3DSK_C9',\n",
    "          '/scratch/e14/cy8964/access-om2/archive/1deg_jra55_ryf_RCPcool',\n",
    "          '/scratch/e14/cy8964/access-om2/archive/1deg_jra55_ryf_RCPwarmhumid',\n",
    "          '/scratch/e14/cy8964/access-om2/archive/1deg_jra55_ryf_RCPcont',\n",
    "          '/scratch/e14/cy8964/access-om2/archive/1deg_jra55_ryf_RCPwarmhumid2x',\n",
    "          '/scratch/e14/cy8964/access-om2/archive/1deg_jra55_ryf_RCPcoolhumid',\n",
    "          '/scratch/e14/cy8964/access-om2/archive/1deg_jra55_ryf_RCPcoolhumid2x'\n",
    "          ]\n",
    "\n",
    "cc.database.build_index(dir_list, session, update=True)"
   ]
  },
  {
   "cell_type": "code",
   "execution_count": null,
   "metadata": {},
   "outputs": [],
   "source": []
  },
  {
   "cell_type": "code",
   "execution_count": null,
   "metadata": {},
   "outputs": [],
   "source": []
  }
 ],
 "metadata": {
  "kernelspec": {
   "display_name": "Python 3",
   "language": "python",
   "name": "python3"
  },
  "language_info": {
   "codemirror_mode": {
    "name": "ipython",
    "version": 3
   },
   "file_extension": ".py",
   "mimetype": "text/x-python",
   "name": "python",
   "nbconvert_exporter": "python",
   "pygments_lexer": "ipython3",
   "version": "3.7.8"
  }
 },
 "nbformat": 4,
 "nbformat_minor": 4
}
