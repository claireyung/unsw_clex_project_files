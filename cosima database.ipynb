{
 "cells": [
  {
   "cell_type": "markdown",
   "metadata": {},
   "source": [
    "## Cosima cookbook database"
   ]
  },
  {
   "cell_type": "code",
   "execution_count": 1,
   "metadata": {},
   "outputs": [],
   "source": [
    "%matplotlib inline\n",
    "%config InlineBackend.figure_format='retina'\n",
    "\n",
    "import cosima_cookbook as cc"
   ]
  },
  {
   "cell_type": "code",
   "execution_count": 2,
   "metadata": {},
   "outputs": [],
   "source": [
    "db = '/scratch/e14/cy8964/access-om2/archive/databases/1deg_jra55_ryf_experiments_2022.db'\n",
    "session = cc.database.create_session(db)"
   ]
  },
  {
   "cell_type": "code",
   "execution_count": 5,
   "metadata": {},
   "outputs": [
    {
     "name": "stdout",
     "output_type": "stream",
     "text": [
      "Indexing experiment: 1deg_jra55_ryf_RCPwarmhumid\n"
     ]
    },
    {
     "name": "stderr",
     "output_type": "stream",
     "text": [
      "100%|██████████| 1477/1477 [07:01<00:00,  3.51it/s]\n"
     ]
    },
    {
     "name": "stdout",
     "output_type": "stream",
     "text": [
      "Indexing experiment: 1deg_jra55_ryf_RCPcont\n"
     ]
    },
    {
     "name": "stderr",
     "output_type": "stream",
     "text": [
      "100%|██████████| 2119/2119 [11:03<00:00,  3.19it/s]\n"
     ]
    },
    {
     "name": "stdout",
     "output_type": "stream",
     "text": [
      "Indexing experiment: 1deg_jra55_ryf_RCPcoolhumid\n"
     ]
    },
    {
     "name": "stderr",
     "output_type": "stream",
     "text": [
      "100%|██████████| 1477/1477 [07:34<00:00,  3.25it/s]\n"
     ]
    },
    {
     "data": {
      "text/plain": [
       "5073"
      ]
     },
     "execution_count": 5,
     "metadata": {},
     "output_type": "execute_result"
    }
   ],
   "source": [
    " dir_list=[#'/scratch/e14/rmh561/access-om2/archive/1deg_jra55_ryf_rcpwarm',\n",
    "#           '/scratch/e14/rmh561/access-om2/archive/1deg_jra55_ryf_rcpcool',\n",
    "#           '/scratch/e14/rmh561/access-om2/archive/1deg_jra55_ryf_rcpcont',\n",
    "          #'/g/data/e14/rmh561/access-om2/archive/1deg_jra55_ryf_red3DSK_C9',\n",
    "#           '/scratch/e14/cy8964/access-om2/archive/1deg_jra55_ryf_RCPcool',\n",
    "          '/scratch/e14/cy8964/access-om2/archive/1deg_jra55_ryf_RCPwarmhumid',\n",
    "          '/scratch/e14/cy8964/access-om2/archive/1deg_jra55_ryf_RCPcont',\n",
    "#           '/scratch/e14/cy8964/access-om2/archive/1deg_jra55_ryf_RCPwarmhumid2x',\n",
    "          '/scratch/e14/cy8964/access-om2/archive/1deg_jra55_ryf_RCPcoolhumid'\n",
    "#           '/scratch/e14/cy8964/access-om2/archive/1deg_jra55_ryf_RCPcoolhumid2x'\n",
    "#          '/scratch/e14/cy8964/access-om2/mask',\n",
    "#           '/scratch/e14/cy8964/access-om2/input/RYF.t_10.1990_1991.nc',\n",
    "#           '/scratch/e14/cy8964/access-om2/input/RYF.rlds.1990_1991.nc',\n",
    "#           '/scratch/e14/cy8964/access-om2/archive/1deg_jra55_ryf_RCPwarmhumid_NA',\n",
    "#           '/scratch/e14/cy8964/access-om2/archive/1deg_jra55_ryf_RCPwarmhumid_SO',\n",
    "#           '/scratch/e14/cy8964/access-om2/archive/1deg_jra55_ryf_RCPcoolhumid_NA',\n",
    "#           '/scratch/e14/cy8964/access-om2/archive/1deg_jra55_ryf_RCPcoolhumid_SO',\n",
    "#           '/scratch/e14/cy8964/access-om2/archive/1deg_jra55_ryf_RCPcoolhumid_PI',\n",
    "#           '/scratch/e14/cy8964/access-om2/archive/1deg_jra55_ryf_RCPwarmhumid_PI',\n",
    "#           '/scratch/e14/cy8964/access-om2/archive/1deg_jra55_ryf_RCPcoolhumid_IP',\n",
    "#           '/scratch/e14/cy8964/access-om2/archive/1deg_jra55_ryf_RCPwarmhumid_IP',\n",
    "#           '/scratch/e14/cy8964/access-om2/archive/1deg_jra55_ryf_RCPcoolhumid_SA',\n",
    "#           '/scratch/e14/cy8964/access-om2/archive/1deg_jra55_ryf_RCPwarmhumid_SA',          \n",
    "#          '/scratch/e14/cy8964/access-om2/archive/1deg_jra55_ryf_RCPwcwc',\n",
    "#          '/scratch/e14/cy8964/access-om2/archive/1deg_jra55_ryf_RCPcwcw'\n",
    "          ]\n",
    "cc.database.build_index(dir_list, session)"
   ]
  },
  {
   "cell_type": "code",
   "execution_count": 5,
   "metadata": {},
   "outputs": [
    {
     "name": "stderr",
     "output_type": "stream",
     "text": [
      "0it [00:00, ?it/s]\n",
      "0it [00:00, ?it/s]"
     ]
    },
    {
     "name": "stdout",
     "output_type": "stream",
     "text": [
      "Indexing experiment: 1deg_jra55_ryf_rcpwarm\n",
      "Indexing experiment: 1deg_jra55_ryf_rcpcool\n"
     ]
    },
    {
     "name": "stderr",
     "output_type": "stream",
     "text": [
      "\n",
      "0it [00:00, ?it/s]\n",
      "0it [00:00, ?it/s]"
     ]
    },
    {
     "name": "stdout",
     "output_type": "stream",
     "text": [
      "Indexing experiment: 1deg_jra55_ryf_rcpcont\n",
      "Indexing experiment: 1deg_jra55_ryf_RCPcool\n"
     ]
    },
    {
     "name": "stderr",
     "output_type": "stream",
     "text": [
      "\n",
      "0it [00:00, ?it/s]\n",
      "0it [00:00, ?it/s]"
     ]
    },
    {
     "name": "stdout",
     "output_type": "stream",
     "text": [
      "Indexing experiment: 1deg_jra55_ryf_RCPwarmhumid\n",
      "Indexing experiment: 1deg_jra55_ryf_RCPcont\n"
     ]
    },
    {
     "name": "stderr",
     "output_type": "stream",
     "text": [
      "\n",
      "0it [00:00, ?it/s]\n",
      "0it [00:00, ?it/s]"
     ]
    },
    {
     "name": "stdout",
     "output_type": "stream",
     "text": [
      "Indexing experiment: 1deg_jra55_ryf_RCPwarmhumid2x\n",
      "Indexing experiment: 1deg_jra55_ryf_RCPcoolhumid\n"
     ]
    },
    {
     "name": "stderr",
     "output_type": "stream",
     "text": [
      "\n",
      "0it [00:00, ?it/s]\n",
      "  0%|          | 0/299 [00:00<?, ?it/s]"
     ]
    },
    {
     "name": "stdout",
     "output_type": "stream",
     "text": [
      "Indexing experiment: mask\n",
      "Indexing experiment: 1deg_jra55_ryf_RCPwarmhumidv2\n"
     ]
    },
    {
     "name": "stderr",
     "output_type": "stream",
     "text": [
      "100%|██████████| 299/299 [00:58<00:00,  5.10it/s]\n"
     ]
    },
    {
     "data": {
      "text/plain": [
       "299"
      ]
     },
     "execution_count": 5,
     "metadata": {},
     "output_type": "execute_result"
    }
   ],
   "source": [
    "# db = '/scratch/e14/cy8964/access-om2/archive/databases/1deg_jra55_ryf_experiments_1.db'\n",
    "# session = cc.database.create_session(db)\n",
    "# dir_list=['/scratch/e14/rmh561/access-om2/archive/1deg_jra55_ryf_rcpwarm',\n",
    "#           '/scratch/e14/rmh561/access-om2/archive/1deg_jra55_ryf_rcpcool',\n",
    "#           '/scratch/e14/rmh561/access-om2/archive/1deg_jra55_ryf_rcpcont',\n",
    "#           #'/g/data/e14/rmh561/access-om2/archive/1deg_jra55_ryf_red3DSK_C9',\n",
    "#           '/scratch/e14/cy8964/access-om2/archive/1deg_jra55_ryf_RCPcool',\n",
    "#           '/scratch/e14/cy8964/access-om2/archive/1deg_jra55_ryf_RCPwarmhumid',\n",
    "#           '/scratch/e14/cy8964/access-om2/archive/1deg_jra55_ryf_RCPcont',\n",
    "#           '/scratch/e14/cy8964/access-om2/archive/1deg_jra55_ryf_RCPwarmhumid2x',\n",
    "#           '/scratch/e14/cy8964/access-om2/archive/1deg_jra55_ryf_RCPcoolhumid',\n",
    "#           '/scratch/e14/cy8964/access-om2/archive/1deg_jra55_ryf_RCPcoolhumid2x'\n",
    "#           '/scratch/e14/cy8964/access-om2/mask',\n",
    "#           '/scratch/e14/cy8964/access-om2/archive/1deg_jra55_ryf_RCPwarmhumidv2'\n",
    "#           ]\n",
    "\n",
    "# cc.database.build_index(dir_list, session, update=True)"
   ]
  },
  {
   "cell_type": "code",
   "execution_count": 6,
   "metadata": {},
   "outputs": [
    {
     "data": {
      "text/html": [
       "<div>\n",
       "<style scoped>\n",
       "    .dataframe tbody tr th:only-of-type {\n",
       "        vertical-align: middle;\n",
       "    }\n",
       "\n",
       "    .dataframe tbody tr th {\n",
       "        vertical-align: top;\n",
       "    }\n",
       "\n",
       "    .dataframe thead th {\n",
       "        text-align: right;\n",
       "    }\n",
       "</style>\n",
       "<table border=\"1\" class=\"dataframe\">\n",
       "  <thead>\n",
       "    <tr style=\"text-align: right;\">\n",
       "      <th></th>\n",
       "      <th>experiment</th>\n",
       "      <th>ncfiles</th>\n",
       "    </tr>\n",
       "  </thead>\n",
       "  <tbody>\n",
       "    <tr>\n",
       "      <th>0</th>\n",
       "      <td>1deg_jra55_ryf_rcpwarm</td>\n",
       "      <td>710</td>\n",
       "    </tr>\n",
       "    <tr>\n",
       "      <th>1</th>\n",
       "      <td>1deg_jra55_ryf_rcpcool</td>\n",
       "      <td>286</td>\n",
       "    </tr>\n",
       "    <tr>\n",
       "      <th>2</th>\n",
       "      <td>1deg_jra55_ryf_rcpcont</td>\n",
       "      <td>710</td>\n",
       "    </tr>\n",
       "    <tr>\n",
       "      <th>3</th>\n",
       "      <td>1deg_jra55_ryf_red3DSK_C9</td>\n",
       "      <td>12644</td>\n",
       "    </tr>\n",
       "    <tr>\n",
       "      <th>4</th>\n",
       "      <td>1deg_jra55_ryf_RCPcool</td>\n",
       "      <td>570</td>\n",
       "    </tr>\n",
       "    <tr>\n",
       "      <th>5</th>\n",
       "      <td>1deg_jra55_ryf_RCPwarmhumid</td>\n",
       "      <td>840</td>\n",
       "    </tr>\n",
       "    <tr>\n",
       "      <th>6</th>\n",
       "      <td>1deg_jra55_ryf_RCPcont</td>\n",
       "      <td>840</td>\n",
       "    </tr>\n",
       "    <tr>\n",
       "      <th>7</th>\n",
       "      <td>1deg_jra55_ryf_RCPwarmhumid2x</td>\n",
       "      <td>840</td>\n",
       "    </tr>\n",
       "    <tr>\n",
       "      <th>8</th>\n",
       "      <td>1deg_jra55_ryf_RCPcoolhumid</td>\n",
       "      <td>840</td>\n",
       "    </tr>\n",
       "    <tr>\n",
       "      <th>9</th>\n",
       "      <td>1deg_jra55_ryf_RCPcoolhumid2x</td>\n",
       "      <td>840</td>\n",
       "    </tr>\n",
       "    <tr>\n",
       "      <th>10</th>\n",
       "      <td>1deg_jra55_ryf_RCPwarmhumidv2</td>\n",
       "      <td>299</td>\n",
       "    </tr>\n",
       "  </tbody>\n",
       "</table>\n",
       "</div>"
      ],
      "text/plain": [
       "                       experiment  ncfiles\n",
       "0          1deg_jra55_ryf_rcpwarm      710\n",
       "1          1deg_jra55_ryf_rcpcool      286\n",
       "2          1deg_jra55_ryf_rcpcont      710\n",
       "3       1deg_jra55_ryf_red3DSK_C9    12644\n",
       "4          1deg_jra55_ryf_RCPcool      570\n",
       "5     1deg_jra55_ryf_RCPwarmhumid      840\n",
       "6          1deg_jra55_ryf_RCPcont      840\n",
       "7   1deg_jra55_ryf_RCPwarmhumid2x      840\n",
       "8     1deg_jra55_ryf_RCPcoolhumid      840\n",
       "9   1deg_jra55_ryf_RCPcoolhumid2x      840\n",
       "10  1deg_jra55_ryf_RCPwarmhumidv2      299"
      ]
     },
     "execution_count": 6,
     "metadata": {},
     "output_type": "execute_result"
    }
   ],
   "source": [
    "cc.querying.get_experiments(session)"
   ]
  },
  {
   "cell_type": "code",
   "execution_count": null,
   "metadata": {},
   "outputs": [],
   "source": []
  }
 ],
 "metadata": {
  "kernelspec": {
   "display_name": "Python [conda env:analysis3-22.01]",
   "language": "python",
   "name": "conda-env-analysis3-22.01-py"
  },
  "language_info": {
   "codemirror_mode": {
    "name": "ipython",
    "version": 3
   },
   "file_extension": ".py",
   "mimetype": "text/x-python",
   "name": "python",
   "nbconvert_exporter": "python",
   "pygments_lexer": "ipython3",
   "version": "3.9.10"
  }
 },
 "nbformat": 4,
 "nbformat_minor": 4
}
