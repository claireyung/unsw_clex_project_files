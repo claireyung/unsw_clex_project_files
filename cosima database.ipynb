{
 "cells": [
  {
   "cell_type": "markdown",
   "metadata": {},
   "source": [
    "## Cosima cookbook database"
   ]
  },
  {
   "cell_type": "code",
   "execution_count": 1,
   "metadata": {},
   "outputs": [],
   "source": [
    "%matplotlib inline\n",
    "%config InlineBackend.figure_format='retina'\n",
    "\n",
    "import cosima_cookbook as cc"
   ]
  },
  {
   "cell_type": "code",
   "execution_count": 2,
   "metadata": {},
   "outputs": [],
   "source": [
    "db = '/scratch/e14/cy8964/access-om2/archive/databases/1deg_jra55_ryf_experiments_1.db'\n",
    "session = cc.database.create_session(db)"
   ]
  },
  {
   "cell_type": "code",
   "execution_count": 3,
   "metadata": {},
   "outputs": [
    {
     "name": "stderr",
     "output_type": "stream",
     "text": [
      "  0%|          | 0/710 [00:00<?, ?it/s]"
     ]
    },
    {
     "name": "stdout",
     "output_type": "stream",
     "text": [
      "Indexing experiment: 1deg_jra55_ryf_rcpwarm\n"
     ]
    },
    {
     "name": "stderr",
     "output_type": "stream",
     "text": [
      "100%|██████████| 710/710 [02:07<00:00,  5.59it/s]\n",
      "  0%|          | 1/286 [00:00<00:49,  5.78it/s]"
     ]
    },
    {
     "name": "stdout",
     "output_type": "stream",
     "text": [
      "Indexing experiment: 1deg_jra55_ryf_rcpcool\n"
     ]
    },
    {
     "name": "stderr",
     "output_type": "stream",
     "text": [
      "100%|██████████| 286/286 [00:52<00:00,  5.45it/s]\n",
      "  0%|          | 0/710 [00:00<?, ?it/s]"
     ]
    },
    {
     "name": "stdout",
     "output_type": "stream",
     "text": [
      "Indexing experiment: 1deg_jra55_ryf_rcpcont\n"
     ]
    },
    {
     "name": "stderr",
     "output_type": "stream",
     "text": [
      "100%|██████████| 710/710 [02:13<00:00,  5.32it/s]\n",
      "  0%|          | 0/12644 [00:00<?, ?it/s]"
     ]
    },
    {
     "name": "stdout",
     "output_type": "stream",
     "text": [
      "Indexing experiment: 1deg_jra55_ryf_red3DSK_C9\n"
     ]
    },
    {
     "name": "stderr",
     "output_type": "stream",
     "text": [
      "  3%|▎         | 345/12644 [01:19<42:40,  4.80it/s]  ERROR:root:Error indexing /g/data/e14/rmh561/access-om2/archive/1deg_jra55_ryf_red3DSK_C9/processed/ocean.ty_trans_rho.xsum.C9_2D_600GS.out000-074.ncrcat.nc: 'time_bounds'\n",
      " 29%|██▉       | 3694/12644 [13:53<59:19,  2.51it/s]  ERROR:root:Error indexing /g/data/e14/rmh561/access-om2/archive/1deg_jra55_ryf_red3DSK_C9/processed/ocean.ty_trans_rho.xsum.C9_2D_600GS.out000-099.ncrcat.nc: 'time_bounds'\n",
      " 32%|███▏      | 4072/12644 [15:16<33:33,  4.26it/s]ERROR:root:Error indexing /g/data/e14/rmh561/access-om2/archive/1deg_jra55_ryf_red3DSK_C9/processed/ocean.ty_trans_rho.xsum.C9_2D_600GS.out000-049.ncrcat.nc: 'time_bounds'\n",
      "100%|██████████| 12644/12644 [48:14<00:00,  4.37it/s] \n",
      "  0%|          | 0/570 [00:00<?, ?it/s]"
     ]
    },
    {
     "name": "stdout",
     "output_type": "stream",
     "text": [
      "Indexing experiment: 1deg_jra55_ryf_RCPcool\n"
     ]
    },
    {
     "name": "stderr",
     "output_type": "stream",
     "text": [
      "100%|██████████| 570/570 [01:56<00:00,  4.90it/s]\n",
      "  0%|          | 1/840 [00:00<02:33,  5.47it/s]"
     ]
    },
    {
     "name": "stdout",
     "output_type": "stream",
     "text": [
      "Indexing experiment: 1deg_jra55_ryf_RCPwarmhumid\n"
     ]
    },
    {
     "name": "stderr",
     "output_type": "stream",
     "text": [
      "100%|██████████| 840/840 [02:53<00:00,  4.83it/s]\n",
      "  0%|          | 0/840 [00:00<?, ?it/s]"
     ]
    },
    {
     "name": "stdout",
     "output_type": "stream",
     "text": [
      "Indexing experiment: 1deg_jra55_ryf_RCPcont\n"
     ]
    },
    {
     "name": "stderr",
     "output_type": "stream",
     "text": [
      "100%|██████████| 840/840 [03:16<00:00,  4.27it/s]\n",
      "  0%|          | 0/840 [00:00<?, ?it/s]"
     ]
    },
    {
     "name": "stdout",
     "output_type": "stream",
     "text": [
      "Indexing experiment: 1deg_jra55_ryf_RCPwarmhumid2x\n"
     ]
    },
    {
     "name": "stderr",
     "output_type": "stream",
     "text": [
      "100%|██████████| 840/840 [02:53<00:00,  4.84it/s]\n",
      "  0%|          | 0/840 [00:00<?, ?it/s]"
     ]
    },
    {
     "name": "stdout",
     "output_type": "stream",
     "text": [
      "Indexing experiment: 1deg_jra55_ryf_RCPcoolhumid\n"
     ]
    },
    {
     "name": "stderr",
     "output_type": "stream",
     "text": [
      "100%|██████████| 840/840 [02:57<00:00,  4.74it/s]\n",
      "  0%|          | 0/840 [00:00<?, ?it/s]"
     ]
    },
    {
     "name": "stdout",
     "output_type": "stream",
     "text": [
      "Indexing experiment: 1deg_jra55_ryf_RCPcoolhumid2x\n"
     ]
    },
    {
     "name": "stderr",
     "output_type": "stream",
     "text": [
      "100%|██████████| 840/840 [03:01<00:00,  4.64it/s]\n"
     ]
    },
    {
     "data": {
      "text/plain": [
       "19120"
      ]
     },
     "execution_count": 3,
     "metadata": {},
     "output_type": "execute_result"
    }
   ],
   "source": [
    "dir_list=['/scratch/e14/rmh561/access-om2/archive/1deg_jra55_ryf_rcpwarm',\n",
    "          '/scratch/e14/rmh561/access-om2/archive/1deg_jra55_ryf_rcpcool',\n",
    "          '/scratch/e14/rmh561/access-om2/archive/1deg_jra55_ryf_rcpcont',\n",
    "          '/g/data/e14/rmh561/access-om2/archive/1deg_jra55_ryf_red3DSK_C9',\n",
    "          '/scratch/e14/cy8964/access-om2/archive/1deg_jra55_ryf_RCPcool',\n",
    "          '/scratch/e14/cy8964/access-om2/archive/1deg_jra55_ryf_RCPwarmhumid',\n",
    "          '/scratch/e14/cy8964/access-om2/archive/1deg_jra55_ryf_RCPcont',\n",
    "          '/scratch/e14/cy8964/access-om2/archive/1deg_jra55_ryf_RCPwarmhumid2x',\n",
    "          '/scratch/e14/cy8964/access-om2/archive/1deg_jra55_ryf_RCPcoolhumid',\n",
    "          '/scratch/e14/cy8964/access-om2/archive/1deg_jra55_ryf_RCPcoolhumid2x'\n",
    "          ]\n",
    "\n",
    "cc.database.build_index(dir_list, session, update=True)"
   ]
  },
  {
   "cell_type": "code",
   "execution_count": null,
   "metadata": {},
   "outputs": [],
   "source": []
  },
  {
   "cell_type": "code",
   "execution_count": null,
   "metadata": {},
   "outputs": [],
   "source": []
  }
 ],
 "metadata": {
  "kernelspec": {
   "display_name": "Python 3",
   "language": "python",
   "name": "python3"
  },
  "language_info": {
   "codemirror_mode": {
    "name": "ipython",
    "version": 3
   },
   "file_extension": ".py",
   "mimetype": "text/x-python",
   "name": "python",
   "nbconvert_exporter": "python",
   "pygments_lexer": "ipython3",
   "version": "3.7.8"
  }
 },
 "nbformat": 4,
 "nbformat_minor": 4
}
