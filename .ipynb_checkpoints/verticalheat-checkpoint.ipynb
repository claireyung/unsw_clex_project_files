{
 "cells": [
  {
   "cell_type": "markdown",
   "metadata": {},
   "source": [
    "vertical cumulative heat budget"
   ]
  },
  {
   "cell_type": "code",
   "execution_count": 4,
   "metadata": {},
   "outputs": [],
   "source": [
    "%matplotlib inline\n",
    "%config InlineBackend.figure_format='retina'\n",
    "\n",
    "import matplotlib.pyplot as plt\n",
    "import xarray as xr\n",
    "import numpy as np\n",
    "\n",
    "import IPython.display\n",
    "import cmocean as cm\n",
    "import cartopy.crs as ccrs\n",
    "from xhistogram.xarray import histogram\n",
    "import pandas as pd\n",
    "import cosima_cookbook as cc\n",
    "from collections import OrderedDict\n"
   ]
  },
  {
   "cell_type": "code",
   "execution_count": 5,
   "metadata": {},
   "outputs": [],
   "source": [
    "session = cc.database.create_session('/scratch/e14/cy8964/access-om2/archive/databases/1deg_jra55_ryf_experiments.db')"
   ]
  },
  {
   "cell_type": "code",
   "execution_count": 6,
   "metadata": {},
   "outputs": [],
   "source": [
    "exptdict = OrderedDict([\n",
    "    ('Control',  {'expt':'1deg_jra55_ryf_RCPcont'}),\n",
    "    ('Warming',  {'expt':'1deg_jra55_ryf_RCPwarmhumid'}),\n",
    "    ('Warming x2',  {'expt':'1deg_jra55_ryf_RCPwarmhumid2x'}),\n",
    "    ('Cooling',  {'expt':'1deg_jra55_ryf_RCPcoolhumid'}),\n",
    "    ('Cooling x2',  {'expt':'1deg_jra55_ryf_RCPcoolhumid2x'}),\n",
    "    ('Warming w/o humidity',  {'expt':'1deg_jra55_ryf_rcpwarm'}),\n",
    "    ('Cooling w/o humidity',  {'expt':'1deg_jra55_ryf_rcpcool'}),\n",
    "    ('Cooling w/o humidity2', {'expt':'1deg_jra55_ryf_RCPcool'}),\n",
    "    ('Windup', {'expt':'1deg_jra55_ryf_red3DSK_C9'})\n",
    "\n",
    "])\n",
    "lim = {'Warming': 1.5,'Warming x2': 3,'Cooling':1.5,'Cooling x2':3}\n",
    "label = {'Warming': 'Warming','Warming x2': 'Warming x2','Cooling':'Cooling','Cooling x2':'Cooling x2'}\n"
   ]
  },
  {
   "cell_type": "code",
   "execution_count": null,
   "metadata": {},
   "outputs": [],
   "source": [
    "def vertical_heat_budget(ekey, year):\n",
    "    expt = exptdict[ekey]['expt']"
   ]
  },
  {
   "cell_type": "code",
   "execution_count": null,
   "metadata": {},
   "outputs": [],
   "source": [
    "expt = '1deg_jra55_ryf_RCPwarmhumid'\n",
    "temp_tendency_warm = cc.querying.getvar(expt, 'temp_tendency', session, ncfile = 'ocean_heat.nc')\n",
    "area_t_warm = cc.querying.getvar(expt, 'area_t', session, ncfile = 'ocean_grid.nc', n=-1)\n",
    "dyt_warm = cc.querying.getvar(expt, 'dyt', session, ncfile = 'ocean_grid.nc', n=-1)\n",
    "dxt_warm = cc.querying.getvar(expt, 'dyt', session, ncfile = 'ocean_grid.nc', n=-1)\n",
    "\n",
    "dzt_warm = cc.querying.getvar(expt, 'dzt', session, ncfile = 'ocean_heat.nc')\n",
    "\n",
    "adv_warm = cc.querying.getvar(expt, 'temp_advection', session)\n",
    "sw_heat_warm =  cc.querying.getvar(expt, 'sw_heat', session)\n",
    "temp_vdiffuse_diff_cbt_warm =   cc.querying.getvar(expt, 'temp_vdiffuse_diff_cbt', session, ncfile = 'ocean_heat.nc')\n",
    "temp_submeso_warm =   cc.querying.getvar(expt, 'temp_submeso', session, ncfile = 'ocean_heat.nc')\n",
    "mixdownslope_temp_warm = cc.querying.getvar(expt, 'mixdownslope_temp', session, ncfile = 'ocean_heat.nc')\n",
    "neutral_gm_temp_warm = cc.querying.getvar(expt, 'neutral_gm_temp', session, ncfile = 'ocean_heat.nc')\n",
    "temp_vdiffuse_sbc_warm = cc.querying.getvar(expt, 'temp_vdiffuse_sbc', session, ncfile = 'ocean_heat.nc')\n",
    "temp_nonlocal_KPP_warm = cc.querying.getvar(expt, 'temp_nonlocal_KPP', session, ncfile = 'ocean_heat.nc')\n",
    "neutral_diffusion_temp_warm= cc.querying.getvar(expt, 'neutral_diffusion_temp', session, ncfile = 'ocean_heat.nc')\n",
    "\n",
    "temp_rivermix_warm= cc.querying.getvar(expt, 'temp_rivermix', session, ncfile = 'ocean_heat.nc')\n",
    "temp_vdiffuse_k33_warm= cc.querying.getvar(expt, 'temp_vdiffuse_k33', session, ncfile = 'ocean_heat.nc')\n",
    "#temp_vdiffuse_diff_cbt_conv= cc.querying.getvar(expt, ' temp_vdiffuse_diff_cbt_conv', session, ncfile = 'ocean_heat.nc', start_time = '2910-01-01')\n",
    "frazil_3d_warm= cc.querying.getvar(expt, 'frazil_3d', session, ncfile = 'ocean_heat.nc')\n",
    "sfc_hflux_pme_warm = cc.querying.getvar(expt, 'sfc_hflux_pme', session, ncfile = 'ocean_heat.nc')\n",
    "temp_warm = cc.querying.getvar(expt, 'temp', session, ncfile = 'ocean_heat.nc')\n",
    "temp_sigma_diff_warm = cc.querying.getvar(expt, 'temp_sigma_diff', session, ncfile = 'ocean_heat.nc')"
   ]
  },
  {
   "cell_type": "code",
   "execution_count": null,
   "metadata": {},
   "outputs": [],
   "source": [
    "advection = adv_warm + neutral_gm_temp_warm + temp_submeso_warm\n",
    "vertical_mixing = temp_vdiffuse_diff_cbt_warm + temp_nonlocal_KPP_warm + mixdownslope_temp_warm + temp_sigma_diff_warm\n",
    "along_iso_mixing = neutral_diffusion_temp_warm + temp_vdiffuse_k33_warm\n",
    "surface_forcing = frazil_3d_warm + temp_rivermix_warm + sw_heat_warm + temp_vdiffuse_sbc_warm"
   ]
  },
  {
   "cell_type": "code",
   "execution_count": null,
   "metadata": {},
   "outputs": [],
   "source": [
    "i = 30\n",
    "ax = plt.figure(figsize=(10,5))\n",
    "((temp_tendency_warm*area_t_warm).sum('xt_ocean').sum('yt_ocean')).groupby('time.year').mean('time').isel(year = i).cumsum('st_ocean').plot(label = 'temp tendency')\n",
    "((advection*area_t_warm).sum('xt_ocean').sum('yt_ocean')).groupby('time.year').mean('time').isel(year = i).cumsum('st_ocean').plot(label = 'advection')\n",
    "((vertical_mixing*area_t_warm).sum('xt_ocean').sum('yt_ocean')).groupby('time.year').mean('time').isel(year = i).cumsum('st_ocean').plot(label = 'vertical_mixing')\n",
    "((along_iso_mixing*area_t_warm).sum('xt_ocean').sum('yt_ocean')).groupby('time.year').mean('time').isel(year = i).cumsum('st_ocean').plot(label = 'along_iso_mixing')\n",
    "((surface_forcing*area_t_warm).sum('xt_ocean').sum('yt_ocean')).groupby('time.year').mean('time').isel(year = i).cumsum('st_ocean').plot(label = 'surface_forcing')\n",
    "plt.plot(np.array([0,0]),np.array([0,((sfc_hflux_pme_warm*area_t_warm).sum('xt_ocean').sum('yt_ocean')).groupby('time.year').mean('time').isel(year = i).values]), label = 'sfc_hflux_pme')\n",
    "\n",
    "#sfc_hflux_pme\n",
    "\n",
    "# tendency: temp_tendency\n",
    "# advection: adv + neutral_gm_temp + submeso\n",
    "# vertical mixing: diff_cbt_t + nonlocal_KPP + mixdownslope + temp_sigma_diff\n",
    "# along-isopycnal mixing: neutral_diffusion_tmep + temp_vdiffuse_k33\n",
    "# surface forcing: sw_heat + vdiffuse_sbc + rivermix + frazil + sfc_hflux_pme\n",
    "\n",
    "#plt.yscale('log')\n",
    "plt.legend()\n",
    "plt.xlim(0,1000)\n",
    "#.plot(vmin = -1e8, vmax = 1e8, cmap = cm.cm.balance, x= 'year', y = 'st_ocean', yincrease = False)"
   ]
  }
 ],
 "metadata": {
  "kernelspec": {
   "display_name": "Python 3",
   "language": "python",
   "name": "python3"
  },
  "language_info": {
   "codemirror_mode": {
    "name": "ipython",
    "version": 3
   },
   "file_extension": ".py",
   "mimetype": "text/x-python",
   "name": "python",
   "nbconvert_exporter": "python",
   "pygments_lexer": "ipython3",
   "version": "3.7.8"
  }
 },
 "nbformat": 4,
 "nbformat_minor": 4
}
